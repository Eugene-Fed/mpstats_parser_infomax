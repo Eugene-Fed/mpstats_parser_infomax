{
 "cells": [
  {
   "cell_type": "code",
   "execution_count": 44,
   "id": "1a7b56e4",
   "metadata": {},
   "outputs": [],
   "source": [
    "import requests\n",
    "import json\n",
    "import sys\n",
    "from pathlib import Path\n",
    "from datetime import datetime, timedelta, date, time"
   ]
  },
  {
   "cell_type": "code",
   "execution_count": 45,
   "id": "cce03a64",
   "metadata": {},
   "outputs": [],
   "source": [
    "# Это единственные 'данные/настройки' в коде. Все остальное вынесено в файл settings.json\n",
    "TEMPLATES_DIR = 'templates'\n",
    "SETTINGS_FILE = 'settings.json'"
   ]
  },
  {
   "cell_type": "code",
   "execution_count": 46,
   "id": "455d3f82",
   "metadata": {},
   "outputs": [],
   "source": [
    "templates_dir = Path(TEMPLATES_DIR)\n",
    "settings_file = Path(SETTINGS_FILE)"
   ]
  },
  {
   "cell_type": "code",
   "execution_count": 47,
   "id": "f1a57a41",
   "metadata": {},
   "outputs": [],
   "source": [
    "def load_json(templates_dir=templates_dir, file=settings_file):\n",
    "    \"\"\"Проверяем наличие файла. Если файл не существует - загружаем его из папки шаблонов.\n",
    "    Если шаблон отсутствует - выходим с ошибкой\"\"\"\n",
    "    json_data = {}\n",
    "    if file.exists():\n",
    "        with file.open() as f:\n",
    "            json_data = json.load(f)\n",
    "            print(f'File \"{str(file)}\" exists.')\n",
    "    else:\n",
    "        file_template = templates_dir / file.name\n",
    "        if file_template.exists():\n",
    "            with file_template.open() as f:\n",
    "                json_data = json.load(f)\n",
    "                # TODO: добавить интерактивный ввод параметров с дальнейшим сохранением в файл settings.json\n",
    "\n",
    "            # Обходим список родителей в обратном порядке. т.к. чем больше индекс, тем ближе родитель к корневому\n",
    "            # [0: 'dir_1/dir_2/dir_3'], [1: 'dir_1/dir_2'], [2: 'dir_1']\n",
    "            for parent in file.parents[::-1]:\n",
    "                # если папка не существует, то создаем папку\n",
    "                if not parent.is_dir():\n",
    "                    parent.mkdir()\n",
    "\n",
    "            # После того как все папки созданы, добавляем в нее искомый файл из шаблона.\n",
    "            with file.open(\"w\", encoding=\"utf-8\") as f:\n",
    "                json.dump(json_data, f, indent=4, ensure_ascii=False)\n",
    "            print(f'File \"{str(file)}\" does not exists. It will be  created from template.')\n",
    "        else:\n",
    "            print(f'Files \"{str(file)}\" and \"{str(templates_dir / file.name)}\" do not exists')\n",
    "            sys.exit(1)\n",
    "    return json_data"
   ]
  },
  {
   "cell_type": "code",
   "execution_count": 48,
   "id": "78043bd6",
   "metadata": {},
   "outputs": [
    {
     "name": "stdout",
     "output_type": "stream",
     "text": [
      "File \"settings.json\" exists. Settings:{'api-keys_dir': 'api-keys', 'api-keys_file': 'api-keys.json'}\n",
      "File \"api-keys\\api-keys.json\" exists.\n"
     ]
    }
   ],
   "source": [
    "settings = load_settings()\n",
    "api_keys_path = Path(settings['api-keys_dir']) / Path(settings['api-keys_file'])\n",
    "api_keys = load_json(file=api_keys_path)"
   ]
  }
 ],
 "metadata": {
  "kernelspec": {
   "display_name": "Python 3 (ipykernel)",
   "language": "python",
   "name": "python3"
  },
  "language_info": {
   "codemirror_mode": {
    "name": "ipython",
    "version": 3
   },
   "file_extension": ".py",
   "mimetype": "text/x-python",
   "name": "python",
   "nbconvert_exporter": "python",
   "pygments_lexer": "ipython3",
   "version": "3.10.4"
  }
 },
 "nbformat": 4,
 "nbformat_minor": 5
}
