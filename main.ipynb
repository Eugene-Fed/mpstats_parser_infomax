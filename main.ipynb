{
 "cells": [
  {
   "cell_type": "code",
   "execution_count": 13,
   "id": "c0a4563c",
   "metadata": {},
   "outputs": [
    {
     "name": "stdout",
     "output_type": "stream",
     "text": [
      "3\n",
      "2\n",
      "1\n",
      "aha\n",
      "hah\n"
     ]
    }
   ],
   "source": [
    "def yield_func(length):\n",
    "    yield 3\n",
    "    yield 2\n",
    "    yield 1\n",
    "    print('aha')\n",
    "    print('hah')\n",
    "        \n",
    "for i in yield_func(5):\n",
    "    print(i)\n"
   ]
  },
  {
   "cell_type": "code",
   "execution_count": 3,
   "id": "f9d9ec37",
   "metadata": {},
   "outputs": [
    {
     "name": "stderr",
     "output_type": "stream",
     "text": [
      "C:\\Users\\eugen\\AppData\\Local\\Temp\\ipykernel_8696\\1236794088.py:19: RuntimeWarning: coroutine 'main' was never awaited\n",
      "  pass\n",
      "RuntimeWarning: Enable tracemalloc to get the object allocation traceback\n"
     ]
    }
   ],
   "source": [
    "import asyncio\n",
    "\n",
    "async def acync_func(task_id: str, task_time: int):\n",
    "    print(f'{task_id}: Запуск ...')\n",
    "    await asyncio.sleep(task_time)\n",
    "    #print(f'{task_id}: ... Готово{\"!\"*task_time}')\n",
    "    print(f'{task_id}: ... Готово!')\n",
    "    \n",
    "async def main():\n",
    "    tasks = []\n",
    "    for i in range(1, 4):\n",
    "        tasks.append(loop.create_task(async_func(f'Task {i}', i)))\n",
    "    await asyncio.wait(tasks)\n",
    "    \n",
    "try:\n",
    "    loop = asyncio.get_event_loop()\n",
    "    loop.run_until_complete(main())\n",
    "except:\n",
    "    pass"
   ]
  },
  {
   "cell_type": "code",
   "execution_count": 5,
   "id": "f85fe936",
   "metadata": {},
   "outputs": [
    {
     "name": "stdout",
     "output_type": "stream",
     "text": [
      "Получено 1 результатов запроса за 0.11541938781738281 секунд\n",
      "Получено 10 результатов запроса за 0.13601374626159668 секунд\n",
      "Получено 50 результатов запроса за 0.1426563262939453 секунд\n",
      "Получено 100 результатов запроса за 0.1370999813079834 секунд\n",
      "Получено 500 результатов запроса за 0.164686918258667 секунд\n"
     ]
    }
   ],
   "source": [
    "import requests\n",
    "import time\n",
    "from concurrent.futures import ProcessPoolExecutor\n",
    "\n",
    "\n",
    "def fetch_url_data(pg_url):\n",
    "    try:\n",
    "        resp = requests.get(pg_url)\n",
    "    except Exception as e:\n",
    "        print(f\"Возникла ошибка при получении данных из url: {pg_url}\")\n",
    "    else:\n",
    "        return resp.content\n",
    "        \n",
    "\n",
    "def get_all_url_data(url_list):\n",
    "    with ProcessPoolExecutor() as executor:\n",
    "        resp = executor.map(fetch_url_data, url_list)\n",
    "    return resp\n",
    "    \n",
    "\n",
    "url = \"https://www.uefa.com/uefaeuro-2020/\"\n",
    "for ntimes in [1,10,50,100,500]:\n",
    "    start_time = time.time()\n",
    "    responses = get_all_url_data([url] * ntimes)\n",
    "    print(f'Получено {ntimes} результатов запроса за {time.time() - start_time} секунд')"
   ]
  },
  {
   "cell_type": "code",
   "execution_count": 6,
   "id": "0610a906",
   "metadata": {},
   "outputs": [
    {
     "ename": "ModuleNotFoundError",
     "evalue": "No module named 'aiohttp'",
     "output_type": "error",
     "traceback": [
      "\u001b[1;31m---------------------------------------------------------------------------\u001b[0m",
      "\u001b[1;31mModuleNotFoundError\u001b[0m                       Traceback (most recent call last)",
      "Cell \u001b[1;32mIn [6], line 3\u001b[0m\n\u001b[0;32m      1\u001b[0m \u001b[38;5;28;01mimport\u001b[39;00m \u001b[38;5;21;01masyncio\u001b[39;00m\n\u001b[0;32m      2\u001b[0m \u001b[38;5;28;01mimport\u001b[39;00m \u001b[38;5;21;01mtime\u001b[39;00m\n\u001b[1;32m----> 3\u001b[0m \u001b[38;5;28;01mfrom\u001b[39;00m \u001b[38;5;21;01maiohttp\u001b[39;00m \u001b[38;5;28;01mimport\u001b[39;00m ClientSession, ClientResponseError\n\u001b[0;32m      6\u001b[0m \u001b[38;5;28;01masync\u001b[39;00m \u001b[38;5;28;01mdef\u001b[39;00m \u001b[38;5;21mfetch_url_data\u001b[39m(session, url):\n\u001b[0;32m      7\u001b[0m     \u001b[38;5;28;01mtry\u001b[39;00m:\n",
      "\u001b[1;31mModuleNotFoundError\u001b[0m: No module named 'aiohttp'"
     ]
    }
   ],
   "source": [
    "import asyncio\n",
    "import time\n",
    "from aiohttp import ClientSession, ClientResponseError\n",
    "\n",
    "\n",
    "async def fetch_url_data(session, url):\n",
    "    try:\n",
    "        async with session.get(url, timeout=60) as response:\n",
    "            resp = await response.read()\n",
    "    except Exception as e:\n",
    "        print(e)\n",
    "    else:\n",
    "        return resp\n",
    "    return\n",
    "\n",
    "\n",
    "async def fetch_async(loop, r):\n",
    "    url = \"https://www.uefa.com/uefaeuro-2020/\"\n",
    "    tasks = []\n",
    "    async with ClientSession() as session:\n",
    "        for i in range(r):\n",
    "            task = asyncio.ensure_future(fetch_url_data(session, url))\n",
    "            tasks.append(task)\n",
    "        responses = await asyncio.gather(*tasks)\n",
    "    return responses\n",
    "\n",
    "\n",
    "for ntimes in [1, 10, 50, 100, 500]:\n",
    "    start_time = time.time()\n",
    "    loop = asyncio.get_event_loop()\n",
    "    future = asyncio.ensure_future(fetch_async(loop, ntimes))\n",
    "    # будет выполняться до тех пор, пока не завершится или не возникнет ошибка\n",
    "    loop.run_until_complete(future)\n",
    "    responses = future.result()\n",
    "    print(f'Получено {ntimes} результатов запроса за {time.time() - start_time} секунд')"
   ]
  },
  {
   "cell_type": "code",
   "execution_count": 1,
   "id": "03b2eff3",
   "metadata": {},
   "outputs": [
    {
     "name": "stdout",
     "output_type": "stream",
     "text": [
      "1020030\n"
     ]
    }
   ],
   "source": [
    "import re\n",
    "\n",
    "string = '1 020 030 Р'\n",
    "total = ''.join(re.findall(r'\\d+', string))\n",
    "print(int(total))"
   ]
  },
  {
   "cell_type": "code",
   "execution_count": 5,
   "id": "bee8e505",
   "metadata": {},
   "outputs": [
    {
     "data": {
      "text/plain": [
       "'123'"
      ]
     },
     "execution_count": 5,
     "metadata": {},
     "output_type": "execute_result"
    }
   ],
   "source": [
    "re.search(r'\\d+', '123abc456').group(0)"
   ]
  },
  {
   "cell_type": "code",
   "execution_count": 5,
   "id": "ad51cdb3",
   "metadata": {},
   "outputs": [],
   "source": [
    "for i in range(5, 1):\n",
    "    print(i)"
   ]
  },
  {
   "cell_type": "code",
   "execution_count": 2,
   "id": "5122674f",
   "metadata": {},
   "outputs": [
    {
     "name": "stdout",
     "output_type": "stream",
     "text": [
      "Help on class Exception in module builtins:\n",
      "\n",
      "class Exception(BaseException)\n",
      " |  Common base class for all non-exit exceptions.\n",
      " |  \n",
      " |  Method resolution order:\n",
      " |      Exception\n",
      " |      BaseException\n",
      " |      object\n",
      " |  \n",
      " |  Built-in subclasses:\n",
      " |      ArithmeticError\n",
      " |      AssertionError\n",
      " |      AttributeError\n",
      " |      BufferError\n",
      " |      ... and 15 other subclasses\n",
      " |  \n",
      " |  Methods defined here:\n",
      " |  \n",
      " |  __init__(self, /, *args, **kwargs)\n",
      " |      Initialize self.  See help(type(self)) for accurate signature.\n",
      " |  \n",
      " |  ----------------------------------------------------------------------\n",
      " |  Static methods defined here:\n",
      " |  \n",
      " |  __new__(*args, **kwargs) from builtins.type\n",
      " |      Create and return a new object.  See help(type) for accurate signature.\n",
      " |  \n",
      " |  ----------------------------------------------------------------------\n",
      " |  Methods inherited from BaseException:\n",
      " |  \n",
      " |  __delattr__(self, name, /)\n",
      " |      Implement delattr(self, name).\n",
      " |  \n",
      " |  __getattribute__(self, name, /)\n",
      " |      Return getattr(self, name).\n",
      " |  \n",
      " |  __reduce__(...)\n",
      " |      Helper for pickle.\n",
      " |  \n",
      " |  __repr__(self, /)\n",
      " |      Return repr(self).\n",
      " |  \n",
      " |  __setattr__(self, name, value, /)\n",
      " |      Implement setattr(self, name, value).\n",
      " |  \n",
      " |  __setstate__(...)\n",
      " |  \n",
      " |  __str__(self, /)\n",
      " |      Return str(self).\n",
      " |  \n",
      " |  with_traceback(...)\n",
      " |      Exception.with_traceback(tb) --\n",
      " |      set self.__traceback__ to tb and return self.\n",
      " |  \n",
      " |  ----------------------------------------------------------------------\n",
      " |  Data descriptors inherited from BaseException:\n",
      " |  \n",
      " |  __cause__\n",
      " |      exception cause\n",
      " |  \n",
      " |  __context__\n",
      " |      exception context\n",
      " |  \n",
      " |  __dict__\n",
      " |  \n",
      " |  __suppress_context__\n",
      " |  \n",
      " |  __traceback__\n",
      " |  \n",
      " |  args\n",
      "\n"
     ]
    }
   ],
   "source": [
    "help(Exception)"
   ]
  }
 ],
 "metadata": {
  "kernelspec": {
   "display_name": "Python 3 (ipykernel)",
   "language": "python",
   "name": "python3"
  },
  "language_info": {
   "codemirror_mode": {
    "name": "ipython",
    "version": 3
   },
   "file_extension": ".py",
   "mimetype": "text/x-python",
   "name": "python",
   "nbconvert_exporter": "python",
   "pygments_lexer": "ipython3",
   "version": "3.10.4"
  }
 },
 "nbformat": 4,
 "nbformat_minor": 5
}
